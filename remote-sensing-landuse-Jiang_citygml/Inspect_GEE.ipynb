{
 "cells": [
  {
   "cell_type": "code",
   "execution_count": 4,
   "metadata": {},
   "outputs": [],
   "source": [
    "import ee\n",
    "\n",
    "# Trigger the authentication flow.\n",
    "#ee.Authenticate()\n",
    "\n",
    "# Initialize the library.\n",
    "ee.Initialize()\n",
    "\n",
    "import geemap\n",
    "import json\n",
    "from ipyleaflet import GeoJSON, Marker, MarkerCluster\n",
    "import matplotlib.pyplot as plt\n",
    "import numpy as np\n",
    "from matplotlib.animation import FuncAnimation\n",
    "from skimage import exposure\n",
    "import cv2\n",
    "import os\n",
    "import datetime\n",
    "from dl_landsat import LANDSAT_8, apply_scale_factors_8, mask_clouds, export_to_drive, export_to_numpy"
   ]
  },
  {
   "cell_type": "code",
   "execution_count": 2,
   "metadata": {},
   "outputs": [
    {
     "data": {
      "application/vnd.jupyter.widget-view+json": {
       "model_id": "5a48ca30bab74c41b30a73635dc6beeb",
       "version_major": 2,
       "version_minor": 0
      },
      "text/plain": [
       "Map(center=[20, 0], controls=(WidgetControl(options=['position', 'transparent_bg'], widget=HBox(children=(Togg…"
      ]
     },
     "execution_count": 2,
     "metadata": {},
     "output_type": "execute_result"
    }
   ],
   "source": [
    "CITY_COORDS = [129.3145, 36.0030]\n",
    "CITY = ee.Geometry.Point(CITY_COORDS) # Coord format: E, N \n",
    "\n",
    "YEAR = 2013\n",
    "\n",
    "Map = geemap.Map()\n",
    "\n",
    "Map"
   ]
  },
  {
   "cell_type": "code",
   "execution_count": 3,
   "metadata": {},
   "outputs": [
    {
     "name": "stdout",
     "output_type": "stream",
     "text": [
      "Data Available:  True\n",
      "Number of exported Months:\n",
      "27\n",
      "Images Exported:\n",
      "2014/01/24 11:00\n",
      "2014/02/09 11:00\n",
      "2014/02/25 10:59\n",
      "2014/02/09 11:00\n",
      "2014/02/25 10:59\n",
      "2013/04/11 11:03\n",
      "2014/04/14 10:59\n",
      "2013/04/11 11:03\n",
      "2013/05/13 11:01\n",
      "2014/04/14 10:59\n",
      "2014/05/16 10:58\n",
      "2013/10/04 11:00\n",
      "2013/10/20 11:00\n",
      "2013/11/05 11:00\n",
      "2013/11/21 11:00\n",
      "2014/10/07 10:59\n",
      "2014/10/23 10:59\n",
      "2013/11/05 11:00\n",
      "2013/11/21 11:00\n",
      "2013/12/07 11:00\n",
      "2013/12/23 11:00\n",
      "2014/12/10 10:59\n",
      "2014/12/26 10:59\n",
      "2013/12/07 11:00\n",
      "2013/12/23 11:00\n",
      "2014/12/10 10:59\n",
      "2014/12/26 10:59\n"
     ]
    }
   ],
   "source": [
    "RELEVANT_MONTHS_WINTER = [1, 2, 3, 4, 10, 11, 12]\n",
    "RELEVANT_MONTHS_SUMMER = [5, 6, 7, 8, 9]\n",
    "RELEVANT_MONTHS = RELEVANT_MONTHS_WINTER\n",
    "\n",
    "ls_read = None\n",
    "for month in RELEVANT_MONTHS:\n",
    "    if ls_read is None:\n",
    "        ls_read = (ee.ImageCollection(LANDSAT_8)\n",
    "                   .map(apply_scale_factors_8)\n",
    "                   .filterBounds(CITY)\n",
    "                   .filter(ee.Filter.calendarRange(YEAR, YEAR+1, \"year\"))\n",
    "                   .filter(ee.Filter.calendarRange(month, month+1, \"month\"))\n",
    "                   .map(mask_clouds)\n",
    "                   )\n",
    "    else:\n",
    "        ls_read_ = (ee.ImageCollection(LANDSAT_8)\n",
    "                   .map(apply_scale_factors_8)\n",
    "                   .filterBounds(CITY)\n",
    "                   .filter(ee.Filter.calendarRange(YEAR, YEAR+1, \"year\"))\n",
    "                   .filter(ee.Filter.calendarRange(month, month+1, \"month\"))\n",
    "                   .map(mask_clouds)\n",
    "                   )\n",
    "        ls_read = ls_read.merge(ls_read_)\n",
    "\n",
    "ls_median = ls_read.median()\n",
    "\n",
    "data_available = ls_median.getInfo() is not None\n",
    "\n",
    "print(\"Data Available: \", data_available)\n",
    "if data_available:\n",
    "    print(\"Number of exported Months:\")\n",
    "    print(ls_read.size().getInfo())\n",
    "    time_stamps = ls_read.aggregate_array(\"system:time_start\").getInfo()\n",
    "    dates = list(\n",
    "        map(lambda x: datetime.datetime.fromtimestamp(x / 1e3).strftime(\"%Y/%m/%d %H:%M\"), time_stamps))\n",
    "    print(\"Images Exported:\")\n",
    "    for date in dates:\n",
    "        print(date)\n",
    "    vis_params_wc = {\"bands\": ['Map']}\n",
    "    vis_params_rgb = {'bands': ['B3', \"B2\", \"B1\"], \"min\": 0, \"max\": 0.3, 'opacity': 1.0}\n",
    "    Map.centerObject(CITY, 14)\n",
    "    Map.addLayer(ls_median, vis_params_rgb, f\"Satelite Image\")\n",
    "else:\n",
    "    print(\"Error Couldn't find datapoint\")"
   ]
  },
  {
   "cell_type": "code",
   "execution_count": 6,
   "metadata": {
    "scrolled": true
   },
   "outputs": [],
   "source": [
    "YEARS = list(range(2013, 2022))\n",
    "base_folder_name_1 = \"Pohang_Si_Winter\"\n",
    "base_folder_name_2 = \"Pohang_Si_Summer\"\n",
    "\n",
    "export_to_drive(CITY_COORDS, years=YEARS, months=RELEVANT_MONTHS_WINTER, base_folder_name=base_folder_name_1)\n",
    "export_to_drive(CITY_COORDS, years=YEARS, months=RELEVANT_MONTHS_SUMMER, base_folder_name=base_folder_name_2)"
   ]
  },
  {
   "cell_type": "code",
   "execution_count": 10,
   "metadata": {},
   "outputs": [
    {
     "name": "stdout",
     "output_type": "stream",
     "text": [
      "(8, 8, 665, 665)\n",
      "(1, 8, 665, 665)\n"
     ]
    }
   ],
   "source": [
    "band_list = [1, 2, 3, 4, 5, 6, 7, 8]\n",
    "export_to_numpy(years=YEARS, base_folder_name=base_folder_name_1, band_list=band_list)\n",
    "export_to_numpy(years=YEARS, base_folder_name=base_folder_name_2, band_list=band_list)"
   ]
  },
  {
   "cell_type": "code",
   "execution_count": null,
   "metadata": {},
   "outputs": [],
   "source": [
    "from dl_landcover import main\n",
    "coords = [36.74905523581975, -1.2815372605877613]\n",
    "main(coords, 'data/nairobi_images_summer', 'data/nairobi_images_summer/data_raw.npy')"
   ]
  }
 ],
 "metadata": {
  "kernelspec": {
   "display_name": "remote-sensing-landuse",
   "language": "python",
   "name": "python3"
  },
  "language_info": {
   "codemirror_mode": {
    "name": "ipython",
    "version": 3
   },
   "file_extension": ".py",
   "mimetype": "text/x-python",
   "name": "python",
   "nbconvert_exporter": "python",
   "pygments_lexer": "ipython3",
   "version": "3.8.15 | packaged by conda-forge | (default, Nov 22 2022, 08:49:35) \n[GCC 10.4.0]"
  },
  "vscode": {
   "interpreter": {
    "hash": "39f9f1f065b5771fa159c3adde0966191b6d7c113f68f4d93de249481ae639bc"
   }
  }
 },
 "nbformat": 4,
 "nbformat_minor": 1
}
